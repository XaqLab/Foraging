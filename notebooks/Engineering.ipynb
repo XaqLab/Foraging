{
 "cells": [
  {
   "metadata": {},
   "cell_type": "markdown",
   "source": [
    "# Engineering Notebook\n",
    "This is where I validate my feats of engineering via benchmarks and unit tests, so that several months later when I look back at the code and question certain decisions I can remind myself of why I made those decisions :)\n",
    "The idea is for each cell to be self-contained and thus runnable independent of all other cells. Only requirement is run the cell below first for setup."
   ],
   "id": "1f77fd40a1a1284d"
  },
  {
   "metadata": {},
   "cell_type": "markdown",
   "source": "# Setup",
   "id": "4a806462ae0f764d"
  },
  {
   "metadata": {
    "ExecuteTime": {
     "end_time": "2025-03-11T01:29:55.919393Z",
     "start_time": "2025-03-11T01:29:55.891438Z"
    }
   },
   "cell_type": "code",
   "source": [
    "%load_ext autoreload\n",
    "%autoreload 2\n",
    "import timeit\n",
    "\n",
    "# Benchmarking function\n",
    "def benchmark(func, label, n = 100):\n",
    "    time = timeit.timeit(func, number=n)\n",
    "    print(f\"{label}: {time:.5f} seconds\")\n"
   ],
   "id": "e21a81eb45ea1e64",
   "outputs": [],
   "execution_count": 1
  },
  {
   "metadata": {},
   "cell_type": "markdown",
   "source": [
    "# Decision to use multi-index with redundant levels vs columns\n",
    "Representing redundant levels, such as experiment parameters, in multiindex instead of columns is at least 3x-5x faster for querying operations and marginally faster for groupby."
   ],
   "id": "bdb9422c0cd40f0d"
  },
  {
   "metadata": {
    "collapsed": true,
    "ExecuteTime": {
     "start_time": "2025-03-07T04:06:20.449640Z"
    }
   },
   "cell_type": "code",
   "source": [
    "import pandas as pd\n",
    "import numpy as np\n",
    "\n",
    "# Generate sample data\n",
    "np.random.seed(42)\n",
    "n = 100000  # Number of rows\n",
    "levels1 = np.random.choice(['A', 'B', 'C', 'D'], size=n)\n",
    "levels2 = np.random.choice(['X', 'Y', 'Z'], size=n)\n",
    "levels3 = np.random.choice(['1'], size = n)\n",
    "levels4 = levels3\n",
    "values = np.random.randn(n)\n",
    "data = {'level1': levels1, 'level2': levels2, 'level3': levels3, 'level4': levels4,'value': values}\n",
    "\n",
    "# Create MultiIndex DataFrame\n",
    "df_multi = pd.DataFrame(data)\n",
    "df_multi.set_index(['level1', 'level2', 'level3', 'level4'], inplace=True)\n",
    "df_multi.sort_index(inplace = True)\n",
    "\n",
    "# Create Column-Based DataFrame\n",
    "df_columns = pd.DataFrame(data)\n",
    "df_columns.set_index(['level1', 'level2'], inplace=True)\n",
    "df_columns.sort_index(inplace = True)\n",
    "\n",
    "# Define query functions\n",
    "def query_multi():\n",
    "    x = df_multi.loc[('A', 'X', '1', '1')]\n",
    "    return x[x['value'] > 0]\n",
    "\n",
    "def query_columns():\n",
    "    x = df_columns.loc[('A', 'X')]\n",
    "    x = x[(x['level3'] == '1') & (x['level4'] == '1')]\n",
    "    return x[x['value'] > 0]\n",
    "\n",
    "# Benchmark operations\n",
    "print(\"Benchmarking Pandas vs Polars DataFrame operations with MultiIndex:\")\n",
    "\n",
    "# Filtering\n",
    "benchmark(query_multi, \"Pandas Multi-index Filtering\")\n",
    "benchmark(query_columns, \"Pandas Columns Filtering\")\n",
    "\n",
    "# Aggregation\n",
    "benchmark(lambda: df_multi.groupby(['level1', 'level2', 'level3', 'level4'])['value'].mean(), \"Pandas Multi-index GroupBy Mean\")\n",
    "benchmark(lambda: df_columns.groupby(['level1', 'level2', 'level3', 'level4'])['value'].mean(), \"Pandas Columns GroupBy Mean\")\n",
    "\n",
    "# Sorting\n",
    "benchmark(lambda: df_multi.sort_values('value'), \"Pandas Multi-index Sorting\")\n",
    "benchmark(lambda: df_columns.sort_values('value'), \"Pandas Columns Sorting\")\n",
    "\n",
    "# Join\n",
    "df_multi2 = df_multi.copy()\n",
    "df_columns2 = df_columns.copy()\n",
    "df_multi2.rename(columns={'value': 'join_value'}, inplace=True)\n",
    "df_columns2.rename(columns={'value': 'join_value'}, inplace=True)\n",
    "\n",
    "benchmark(lambda: df_multi.merge(df_multi2, left_on='value', right_on='join_value'), \"Pandas Multi-index Join\")\n",
    "benchmark(lambda: df_columns.merge(df_columns2, left_on='value', right_on='join_value'), \"Pandas Columns Join\")"
   ],
   "id": "initial_id",
   "outputs": [
    {
     "name": "stdout",
     "output_type": "stream",
     "text": [
      "Benchmarking Pandas vs Polars DataFrame operations with MultiIndex:\n",
      "Pandas Multi-index Filtering: 0.04285 seconds\n",
      "Pandas Columns Filtering: 0.10074 seconds\n"
     ]
    }
   ],
   "execution_count": null
  },
  {
   "metadata": {},
   "cell_type": "markdown",
   "source": "# Decision to use polars over pandas for huge dataframes",
   "id": "4343c62485bb2f32"
  },
  {
   "metadata": {
    "ExecuteTime": {
     "end_time": "2025-03-07T04:06:22.316037900Z",
     "start_time": "2025-02-21T03:04:08.511827Z"
    }
   },
   "cell_type": "code",
   "source": [
    "import pandas as pd\n",
    "import polars as pl\n",
    "import numpy as np\n",
    "import timeit\n",
    "\n",
    "# Generate sample data\n",
    "np.random.seed(42)\n",
    "n = 100000  # Number of rows\n",
    "levels1 = np.random.choice(['A', 'B', 'C', 'D'], size=n)\n",
    "levels2 = np.random.choice(['X', 'Y', 'Z'], size=n)\n",
    "levels3 = np.random.choice(['1'], size = n)\n",
    "levels4 = levels3\n",
    "values = np.random.randn(n)\n",
    "data = {'level1': levels1, 'level2': levels2, 'level3': levels3, 'level4': levels4,'value': values}\n",
    "\n",
    "# Convert to Pandas and Polars DataFrame\n",
    "pdf = pd.DataFrame(data)\n",
    "pdf.set_index(['level1', 'level2', 'level3', 'level4'], inplace=True)\n",
    "pdf.sort_index(inplace = True)\n",
    "\n",
    "pldf = pl.DataFrame(data).with_columns(\n",
    "    pl.col(\"level1\").cast(pl.Categorical),\n",
    "    pl.col(\"level2\").cast(pl.Categorical),\n",
    "    pl.col(\"level3\").cast(pl.Categorical),\n",
    "    pl.col(\"level4\").cast(pl.Categorical)\n",
    ").sort(['level1', 'level2', 'level3', 'level4'])\n",
    "\n",
    "# Benchmark operations\n",
    "print(\"Benchmarking Pandas vs Polars DataFrame operations with MultiIndex:\")\n",
    "\n",
    "# Filtering\n",
    "benchmark(lambda: pdf.loc[pdf['value'] > 0], \"Pandas Filtering\")\n",
    "benchmark(lambda: pldf.filter(pl.col('value') > 0), \"Polars Filtering\")\n",
    "\n",
    "# Aggregation\n",
    "benchmark(lambda: pdf.groupby(['level1', 'level2', 'level3', 'level4'])['value'].mean(), \"Pandas GroupBy Mean\")\n",
    "benchmark(lambda: pldf.group_by(['level1', 'level2', 'level3', 'level4']).agg(pl.col('value').mean()), \"Polars GroupBy Mean\")\n",
    "\n",
    "# Sorting\n",
    "benchmark(lambda: pdf.sort_values('value'), \"Pandas Sorting\")\n",
    "benchmark(lambda: pldf.sort('value'), \"Polars Sorting\")\n",
    "\n",
    "# Join\n",
    "pdf2 = pdf.copy()\n",
    "pldf2 = pldf.clone()\n",
    "pdf2.rename(columns={'value': 'join_value'}, inplace=True)\n",
    "pldf2 = pldf2.rename({'value': 'join_value'})\n",
    "\n",
    "benchmark(lambda: pdf.merge(pdf2, left_on='value', right_on='join_value'), \"Pandas Join\")\n",
    "benchmark(lambda: pldf.join(pldf2, left_on='value', right_on='join_value'), \"Polars Join\")"
   ],
   "id": "ed4caa07e0780f8f",
   "outputs": [
    {
     "name": "stdout",
     "output_type": "stream",
     "text": [
      "Benchmarking Pandas vs Polars DataFrame operations with MultiIndex:\n",
      "Pandas Filtering: 0.06080 seconds\n",
      "Polars Filtering: 0.02455 seconds\n",
      "Pandas GroupBy Mean: 1.41756 seconds\n",
      "Polars GroupBy Mean: 0.11218 seconds\n",
      "Pandas Sorting: 0.77353 seconds\n",
      "Polars Sorting: 0.16036 seconds\n",
      "Pandas Join: 1.00369 seconds\n",
      "Polars Join: 0.14721 seconds\n"
     ]
    }
   ],
   "execution_count": 3
  },
  {
   "metadata": {},
   "cell_type": "markdown",
   "source": [
    "# Decision to forego dataframes to house continuous data\n",
    "It appears simply storing the continuous data in a dictionary is waaaay faster than in a dataframe. It's curious that the polars implementation is slower, especially since querying it seems faster."
   ],
   "id": "db0c9264d3108057"
  },
  {
   "metadata": {
    "ExecuteTime": {
     "end_time": "2025-03-07T04:06:22.324038400Z",
     "start_time": "2025-03-01T18:35:39.333461Z"
    }
   },
   "cell_type": "code",
   "source": [
    "import numpy as np\n",
    "import pandas as pd\n",
    "import polars as pl\n",
    "import sys, os\n",
    "\n",
    "pd.options.mode.copy_on_write = True\n",
    "\n",
    "module_path = os.path.abspath('..')\n",
    "if module_path not in sys.path:\n",
    "    sys.path.append(module_path)\n",
    "\n",
    "from foraging import utils\n",
    "DATA_DIR = '../data/experiments'\n",
    "SEED = 42\n",
    "\n",
    "# downsample dataframe to 50 blocks per subject\n",
    "df = utils.make_dataframe(DATA_DIR)\n",
    "conds = {'subject': ['dylan', 'marco', 'viktor']}\n",
    "monkey_df = utils.data.filter_df(df, conds).copy(deep=True)\n",
    "sampled_blocks = monkey_df.groupby(['subject', 'session', 'block']).size().groupby('subject').sample(n = 10, random_state = SEED)\n",
    "sampled_df = pd.merge(sampled_blocks.to_frame(), monkey_df, on = ['subject', 'session', 'block']).sort_index()\n",
    "sampled_df_polars = pl.from_pandas(sampled_df, include_index = True)\n",
    "\n",
    "## Method 1: store as dictionary\n",
    "benchmark(lambda: utils.data.get_continuous_from_df_to_dict(sampled_df, DATA_DIR), \"Store as dictionary\")\n",
    "\n",
    "## Method 2: store in dataframe\n",
    "benchmark(lambda: utils.data.get_continuous3d_from_df_to_df(sampled_df, DATA_DIR), \"Store as dataframe\")\n",
    "\n",
    "## Method 3: store in polars dataframe\n",
    "benchmark(lambda: utils.data.get_continuous_from_df_to_polars(sampled_df_polars, DATA_DIR), \"Store as polars dataframe\")"
   ],
   "id": "f0501e0eeddd4aba",
   "outputs": [
    {
     "name": "stdout",
     "output_type": "stream",
     "text": [
      "Store as dictionary: 22.17043 seconds\n",
      "Store as dataframe: 109.47406 seconds\n",
      "Store as polars dataframe: 183.25588 seconds\n"
     ]
    }
   ],
   "execution_count": 2
  },
  {
   "metadata": {},
   "cell_type": "markdown",
   "source": [
    "# Decision to use gamma.cdf over matrix exponential\n",
    "Familiar adage holds: always go built-in over custom whenever you can."
   ],
   "id": "7191abbec81a568a"
  },
  {
   "metadata": {
    "ExecuteTime": {
     "end_time": "2025-03-08T21:50:24.253418Z",
     "start_time": "2025-03-08T21:50:24.202407Z"
    }
   },
   "cell_type": "code",
   "source": [
    "from scipy.linalg import expm\n",
    "\n",
    "latent = 5\n",
    "t = 5\n",
    "is_avail = 1\n",
    "n_states = 11\n",
    "shape = 10\n",
    "p0 = np.zeros(shape + 1)\n",
    "p0[0] = 1\n",
    "\n",
    "# METHOD 1: full state vector\n",
    "def method1():\n",
    "    rate = 1/latent\n",
    "    Lambda = np.diag(np.ones(n_states)  * -rate * (shape), k = 0) + np.diag(np.ones(shape) * rate * shape, k = 1)\n",
    "    Lambda[-1,-1] = 0.0 # no probability of leaving once in the nth state\n",
    "    p_t = p0 @ expm(Lambda * t)\n",
    "    p_t = np.clip(p_t, 0.0, 1.0)\n",
    "\n",
    "    # the last element is the probability of being in the last state ie. reward being available\n",
    "    if is_avail == 0: # if reward is not available, do the complementary probability\n",
    "        return 1.0 - p_t[-1]\n",
    "    return p_t[-1]\n",
    "\n",
    "benchmark(method1, \"Method 1: Matrix Exponential\")\n",
    "benchmark(lambda : gamma.cdf(t, shape, scale= latent / shape), \"Method 2: gamma.cdf\")"
   ],
   "id": "d923988a944c7677",
   "outputs": [
    {
     "name": "stdout",
     "output_type": "stream",
     "text": [
      "Method 1: Matrix Exponential: 0.01682 seconds\n",
      "Method 2: gamma.cdf: 0.00648 seconds\n"
     ]
    }
   ],
   "execution_count": 58
  },
  {
   "metadata": {},
   "cell_type": "markdown",
   "source": [
    "# Verifying Bayesian Update\n",
    "\n",
    "This shows the posterior converge to the true rate with unbiased, fixed rate sampling of the reward process"
   ],
   "id": "270337b1b4fb28be"
  },
  {
   "metadata": {
    "ExecuteTime": {
     "end_time": "2025-03-11T01:32:57.312195Z",
     "start_time": "2025-03-11T01:32:57.124012Z"
    }
   },
   "cell_type": "code",
   "source": [
    "import os, sys\n",
    "import numpy as np\n",
    "from scipy.stats import gamma, uniform\n",
    "from matplotlib import pyplot as plt\n",
    "\n",
    "# Necessary to import local scripts that exist in separate directory below\n",
    "module_path = os.path.abspath('..')\n",
    "if module_path not in sys.path:\n",
    "    sys.path.append(module_path)\n",
    "\n",
    "from foraging import utils\n",
    "import utils.models\n",
    "\n",
    "schedule_candidates = np.arange(1,10, 0.1)\n",
    "prior = uniform.pdf(schedule_candidates, loc = schedule_candidates.min(), scale =schedule_candidates.max() - schedule_candidates.min())\n",
    "normal = utils.models.MyNormalizer()\n",
    "prior = normal.normalize(prior)\n",
    "\n",
    "# construct likelihood/observation model\n",
    "shape = 10\n",
    "obs_model = utils.models.GammaObservation(shape)\n",
    "n_times = 500\n",
    "true_rate = 5\n",
    "posterior = utils.models.MyPosterior(obs_model, prior, schedule_candidates, normal)\n",
    "probs = np.zeros((n_times, len(schedule_candidates)))\n",
    "push_interval = true_rate\n",
    "for i in range(n_times):\n",
    "    rt = gamma.rvs(shape, scale = true_rate/shape)\n",
    "    ro = push_interval >  rt # this assumes box resets every push\n",
    "    probs[i] = posterior.update((ro, push_interval))\n",
    "plt.imshow(probs[:,:].T, aspect='equal')\n",
    "plt.yticks(range(0, len(schedule_candidates), 10), ['%d' % x for x in schedule_candidates[range(0, len(schedule_candidates), 10)]])"
   ],
   "id": "7d7adf426ec663d7",
   "outputs": [
    {
     "data": {
      "text/plain": [
       "([<matplotlib.axis.YTick at 0x7faef246bf10>,\n",
       "  <matplotlib.axis.YTick at 0x7faef24acf40>,\n",
       "  <matplotlib.axis.YTick at 0x7faeefffff10>,\n",
       "  <matplotlib.axis.YTick at 0x7faef24c2c80>,\n",
       "  <matplotlib.axis.YTick at 0x7faef015e230>,\n",
       "  <matplotlib.axis.YTick at 0x7faef01b7250>,\n",
       "  <matplotlib.axis.YTick at 0x7faef24daad0>,\n",
       "  <matplotlib.axis.YTick at 0x7faef24d9600>,\n",
       "  <matplotlib.axis.YTick at 0x7faef0185ff0>],\n",
       " [Text(0, 0, '1'),\n",
       "  Text(0, 10, '2'),\n",
       "  Text(0, 20, '3'),\n",
       "  Text(0, 30, '4'),\n",
       "  Text(0, 40, '5'),\n",
       "  Text(0, 50, '6'),\n",
       "  Text(0, 60, '7'),\n",
       "  Text(0, 70, '8'),\n",
       "  Text(0, 80, '9')])"
      ]
     },
     "execution_count": 3,
     "metadata": {},
     "output_type": "execute_result"
    },
    {
     "data": {
      "text/plain": [
       "<Figure size 640x480 with 1 Axes>"
      ],
      "image/png": "[encoded data removed]"
     },
     "metadata": {},
     "output_type": "display_data"
    }
   ],
   "execution_count": 3
  },
  {
   "metadata": {},
   "cell_type": "markdown",
   "source": "We verify by eye that the bayesian update is correct in the following simple setup of inferring the parameter of a Bernoulli random process. In this setup, starting with a uniform prior and always observing a success should result in a posterior where each probability is multiplied by its corresponding latent (also a probability) ie. after the nth update, the posterior probabilities should be proportionate to their corresponding latent to the nth power.",
   "id": "76e54df6ff9438b4"
  },
  {
   "metadata": {
    "ExecuteTime": {
     "end_time": "2025-03-11T01:54:26.803740Z",
     "start_time": "2025-03-11T01:54:26.796757Z"
    }
   },
   "cell_type": "code",
   "source": [
    "import numpy as np\n",
    "from scipy.stats import bernoulli\n",
    "from foraging import utils\n",
    "import utils.models\n",
    "\n",
    "class BinaryObservation(utils.models.Observation):\n",
    "    def probability(self, obs, latent, **kwargs):\n",
    "        return bernoulli.pmf(obs, latent)\n",
    "    def support(self):\n",
    "        return np.array([0, 1])\n",
    "    def probabilities(self, latent, **kwargs):\n",
    "        return bernoulli.pmf([self.support()], latent)\n",
    "\n",
    "latents = np.linspace(0.2,1,4)\n",
    "prior = np.ones(len(latents)) / len(latents)\n",
    "print(\"prior\", prior)\n",
    "print(\"latents\", latents)\n",
    "obs_model = BinaryObservation()\n",
    "normal = utils.models.MyNormalizer()\n",
    "posterior = utils.models.MyPosterior(obs_model, prior, latents, normal)\n",
    "n_checks = 3\n",
    "for i in range(n_checks):\n",
    "    posterior.update(1)\n",
    "    print(posterior.probabilities())\n",
    "    test = posterior.probabilities() / (latents ** (i + 1))\n",
    "    np.testing.assert_almost_equal(test, test[0])"
   ],
   "id": "326362d5640313ea",
   "outputs": [
    {
     "name": "stdout",
     "output_type": "stream",
     "text": [
      "prior [0.25 0.25 0.25 0.25]\n",
      "latents [0.2        0.46666667 0.73333333 1.        ]\n",
      "[0.08333333 0.19444444 0.30555556 0.41666667]\n",
      "[0.02227723 0.12128713 0.29950495 0.55693069]\n",
      "[0.00531915 0.06757289 0.26221434 0.66489362]\n"
     ]
    }
   ],
   "execution_count": 19
  }
 ],
 "metadata": {
  "kernelspec": {
   "display_name": "Python 3",
   "language": "python",
   "name": "python3"
  },
  "language_info": {
   "codemirror_mode": {
    "name": "ipython",
    "version": 2
   },
   "file_extension": ".py",
   "mimetype": "text/x-python",
   "name": "python",
   "nbconvert_exporter": "python",
   "pygments_lexer": "ipython2",
   "version": "2.7.6"
  }
 },
 "nbformat": 4,
 "nbformat_minor": 5
}
