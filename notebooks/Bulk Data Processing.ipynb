{
 "cells": [
  {
   "metadata": {},
   "cell_type": "markdown",
   "source": [
    "# Bulk Data Processing\n",
    "This notebook is for processing and saving data across multiple subjects in bulk."
   ],
   "id": "f0b2fc35bdfc29ca"
  },
  {
   "metadata": {},
   "cell_type": "markdown",
   "source": [
    "# Setup\n",
    "Run this first to import everything and set up notebook"
   ],
   "id": "b88999cac22d8920"
  },
  {
   "metadata": {
    "ExecuteTime": {
     "end_time": "2025-03-11T23:49:02.103043Z",
     "start_time": "2025-03-11T23:49:01.932220Z"
    }
   },
   "cell_type": "code",
   "source": [
    "%matplotlib inline\n",
    "%load_ext autoreload\n",
    "%autoreload 2\n",
    "\n",
    "import logging\n",
    "import os\n",
    "import pickle\n",
    "\n",
    "import numpy as np\n",
    "from foraging import utils\n",
    "\n",
    "import utils.beliefs\n",
    "import utils.data\n",
    "\n",
    "# Filter out annoying matplotlib logs\n",
    "mlogger = logging.getLogger('matplotlib')\n",
    "mlogger.setLevel(logging.WARNING)\n",
    "\n",
    "EXPERIMENTS_DIR = '../data/experiments'\n",
    "SAVE_DIR = '../data/analysis'\n",
    "SEED = 42"
   ],
   "id": "391f3592ad9b3a19",
   "outputs": [],
   "execution_count": 1
  },
  {
   "metadata": {},
   "cell_type": "markdown",
   "source": [
    "# Load experiment data\n",
    "Load matlab datafiles into a pandas Dataframe"
   ],
   "id": "4b6a131802c1127f"
  },
  {
   "metadata": {
    "ExecuteTime": {
     "end_time": "2025-03-11T23:49:09.735591Z",
     "start_time": "2025-03-11T23:49:04.252177Z"
    }
   },
   "cell_type": "code",
   "source": [
    "df = utils.data.make_dataframe(EXPERIMENTS_DIR)\n",
    "df = utils.data.exclusion_criteria(df)\n",
    "df.head()"
   ],
   "id": "b6eafe0a6073a58e",
   "outputs": [
    {
     "data": {
      "text/plain": [
       "                                                                 session id  \\\n",
       "subject session block push # stimulus type shape kappa week day               \n",
       "dylan   1       2     1      probability   1     0.1   M           20211206   \n",
       "                      2      probability   1     0.1   M           20211206   \n",
       "                      3      probability   1     0.1   M           20211206   \n",
       "                      4      probability   1     0.1   M           20211206   \n",
       "                      5      probability   1     0.1   M           20211206   \n",
       "\n",
       "                                                                 _session  \\\n",
       "subject session block push # stimulus type shape kappa week day             \n",
       "dylan   1       2     1      probability   1     0.1   M               20   \n",
       "                      2      probability   1     0.1   M               20   \n",
       "                      3      probability   1     0.1   M               20   \n",
       "                      4      probability   1     0.1   M               20   \n",
       "                      5      probability   1     0.1   M               20   \n",
       "\n",
       "                                                                 schedule  \\\n",
       "subject session block push # stimulus type shape kappa week day             \n",
       "dylan   1       2     1      probability   1     0.1   M             15.0   \n",
       "                      2      probability   1     0.1   M             15.0   \n",
       "                      3      probability   1     0.1   M             15.0   \n",
       "                      4      probability   1     0.1   M             21.0   \n",
       "                      5      probability   1     0.1   M             21.0   \n",
       "\n",
       "                                                                 box  \\\n",
       "subject session block push # stimulus type shape kappa week day        \n",
       "dylan   1       2     1      probability   1     0.1   M           1   \n",
       "                      2      probability   1     0.1   M           1   \n",
       "                      3      probability   1     0.1   M           1   \n",
       "                      4      probability   1     0.1   M           2   \n",
       "                      5      probability   1     0.1   M           2   \n",
       "\n",
       "                                                                 push times  \\\n",
       "subject session block push # stimulus type shape kappa week day               \n",
       "dylan   1       2     1      probability   1     0.1   M              8.465   \n",
       "                      2      probability   1     0.1   M              9.468   \n",
       "                      3      probability   1     0.1   M             11.667   \n",
       "                      4      probability   1     0.1   M             17.125   \n",
       "                      5      probability   1     0.1   M             19.904   \n",
       "\n",
       "                                                                 same-box push intervals  \\\n",
       "subject session block push # stimulus type shape kappa week day                            \n",
       "dylan   1       2     1      probability   1     0.1   M                           8.465   \n",
       "                      2      probability   1     0.1   M                           1.003   \n",
       "                      3      probability   1     0.1   M                           2.199   \n",
       "                      4      probability   1     0.1   M                          17.125   \n",
       "                      5      probability   1     0.1   M                           2.779   \n",
       "\n",
       "                                                                 reward outcomes  \\\n",
       "subject session block push # stimulus type shape kappa week day                    \n",
       "dylan   1       2     1      probability   1     0.1   M                   False   \n",
       "                      2      probability   1     0.1   M                   False   \n",
       "                      3      probability   1     0.1   M                   False   \n",
       "                      4      probability   1     0.1   M                   False   \n",
       "                      5      probability   1     0.1   M                   False   \n",
       "\n",
       "                                                                 reward intervals  \\\n",
       "subject session block push # stimulus type shape kappa week day                     \n",
       "dylan   1       2     1      probability   1     0.1   M                   30.614   \n",
       "                      2      probability   1     0.1   M                   11.345   \n",
       "                      3      probability   1     0.1   M                   16.310   \n",
       "                      4      probability   1     0.1   M                    4.837   \n",
       "                      5      probability   1     0.1   M                   13.391   \n",
       "\n",
       "                                                                 box rank  \\\n",
       "subject session block push # stimulus type shape kappa week day             \n",
       "dylan   1       2     1      probability   1     0.1   M                0   \n",
       "                      2      probability   1     0.1   M                0   \n",
       "                      3      probability   1     0.1   M                0   \n",
       "                      4      probability   1     0.1   M                1   \n",
       "                      5      probability   1     0.1   M                1   \n",
       "\n",
       "                                                                 normalized pushes  \\\n",
       "subject session block push # stimulus type shape kappa week day                      \n",
       "dylan   1       2     1      probability   1     0.1   M                  0.564333   \n",
       "                      2      probability   1     0.1   M                  0.066867   \n",
       "                      3      probability   1     0.1   M                  0.146600   \n",
       "                      4      probability   1     0.1   M                  0.815476   \n",
       "                      5      probability   1     0.1   M                  0.132333   \n",
       "\n",
       "                                                                 consecutive push intervals  \\\n",
       "subject session block push # stimulus type shape kappa week day                               \n",
       "dylan   1       2     1      probability   1     0.1   M                              8.465   \n",
       "                      2      probability   1     0.1   M                              1.003   \n",
       "                      3      probability   1     0.1   M                              2.199   \n",
       "                      4      probability   1     0.1   M                              5.458   \n",
       "                      5      probability   1     0.1   M                              2.779   \n",
       "\n",
       "                                                                 push # by box  \\\n",
       "subject session block push # stimulus type shape kappa week day                  \n",
       "dylan   1       2     1      probability   1     0.1   M                     1   \n",
       "                      2      probability   1     0.1   M                     2   \n",
       "                      3      probability   1     0.1   M                     3   \n",
       "                      4      probability   1     0.1   M                     1   \n",
       "                      5      probability   1     0.1   M                     2   \n",
       "\n",
       "                                                                 stay/switch  \n",
       "subject session block push # stimulus type shape kappa week day               \n",
       "dylan   1       2     1      probability   1     0.1   M               False  \n",
       "                      2      probability   1     0.1   M               False  \n",
       "                      3      probability   1     0.1   M               False  \n",
       "                      4      probability   1     0.1   M                True  \n",
       "                      5      probability   1     0.1   M               False  "
      ],
      "text/html": [
       "<div>\n",
       "<style scoped>\n",
       "    .dataframe tbody tr th:only-of-type {\n",
       "        vertical-align: middle;\n",
       "    }\n",
       "\n",
       "    .dataframe tbody tr th {\n",
       "        vertical-align: top;\n",
       "    }\n",
       "\n",
       "    .dataframe thead th {\n",
       "        text-align: right;\n",
       "    }\n",
       "</style>\n",
       "<table border=\"1\" class=\"dataframe\">\n",
       "  <thead>\n",
       "    <tr style=\"text-align: right;\">\n",
       "      <th></th>\n",
       "      <th></th>\n",
       "      <th></th>\n",
       "      <th></th>\n",
       "      <th></th>\n",
       "      <th></th>\n",
       "      <th></th>\n",
       "      <th></th>\n",
       "      <th>session id</th>\n",
       "      <th>_session</th>\n",
       "      <th>schedule</th>\n",
       "      <th>box</th>\n",
       "      <th>push times</th>\n",
       "      <th>same-box push intervals</th>\n",
       "      <th>reward outcomes</th>\n",
       "      <th>reward intervals</th>\n",
       "      <th>box rank</th>\n",
       "      <th>normalized pushes</th>\n",
       "      <th>consecutive push intervals</th>\n",
       "      <th>push # by box</th>\n",
       "      <th>stay/switch</th>\n",
       "    </tr>\n",
       "    <tr>\n",
       "      <th>subject</th>\n",
       "      <th>session</th>\n",
       "      <th>block</th>\n",
       "      <th>push #</th>\n",
       "      <th>stimulus type</th>\n",
       "      <th>shape</th>\n",
       "      <th>kappa</th>\n",
       "      <th>week day</th>\n",
       "      <th></th>\n",
       "      <th></th>\n",
       "      <th></th>\n",
       "      <th></th>\n",
       "      <th></th>\n",
       "      <th></th>\n",
       "      <th></th>\n",
       "      <th></th>\n",
       "      <th></th>\n",
       "      <th></th>\n",
       "      <th></th>\n",
       "      <th></th>\n",
       "      <th></th>\n",
       "    </tr>\n",
       "  </thead>\n",
       "  <tbody>\n",
       "    <tr>\n",
       "      <th rowspan=\"5\" valign=\"top\">dylan</th>\n",
       "      <th rowspan=\"5\" valign=\"top\">1</th>\n",
       "      <th rowspan=\"5\" valign=\"top\">2</th>\n",
       "      <th>1</th>\n",
       "      <th>probability</th>\n",
       "      <th>1</th>\n",
       "      <th>0.1</th>\n",
       "      <th>M</th>\n",
       "      <td>20211206</td>\n",
       "      <td>20</td>\n",
       "      <td>15.0</td>\n",
       "      <td>1</td>\n",
       "      <td>8.465</td>\n",
       "      <td>8.465</td>\n",
       "      <td>False</td>\n",
       "      <td>30.614</td>\n",
       "      <td>0</td>\n",
       "      <td>0.564333</td>\n",
       "      <td>8.465</td>\n",
       "      <td>1</td>\n",
       "      <td>False</td>\n",
       "    </tr>\n",
       "    <tr>\n",
       "      <th>2</th>\n",
       "      <th>probability</th>\n",
       "      <th>1</th>\n",
       "      <th>0.1</th>\n",
       "      <th>M</th>\n",
       "      <td>20211206</td>\n",
       "      <td>20</td>\n",
       "      <td>15.0</td>\n",
       "      <td>1</td>\n",
       "      <td>9.468</td>\n",
       "      <td>1.003</td>\n",
       "      <td>False</td>\n",
       "      <td>11.345</td>\n",
       "      <td>0</td>\n",
       "      <td>0.066867</td>\n",
       "      <td>1.003</td>\n",
       "      <td>2</td>\n",
       "      <td>False</td>\n",
       "    </tr>\n",
       "    <tr>\n",
       "      <th>3</th>\n",
       "      <th>probability</th>\n",
       "      <th>1</th>\n",
       "      <th>0.1</th>\n",
       "      <th>M</th>\n",
       "      <td>20211206</td>\n",
       "      <td>20</td>\n",
       "      <td>15.0</td>\n",
       "      <td>1</td>\n",
       "      <td>11.667</td>\n",
       "      <td>2.199</td>\n",
       "      <td>False</td>\n",
       "      <td>16.310</td>\n",
       "      <td>0</td>\n",
       "      <td>0.146600</td>\n",
       "      <td>2.199</td>\n",
       "      <td>3</td>\n",
       "      <td>False</td>\n",
       "    </tr>\n",
       "    <tr>\n",
       "      <th>4</th>\n",
       "      <th>probability</th>\n",
       "      <th>1</th>\n",
       "      <th>0.1</th>\n",
       "      <th>M</th>\n",
       "      <td>20211206</td>\n",
       "      <td>20</td>\n",
       "      <td>21.0</td>\n",
       "      <td>2</td>\n",
       "      <td>17.125</td>\n",
       "      <td>17.125</td>\n",
       "      <td>False</td>\n",
       "      <td>4.837</td>\n",
       "      <td>1</td>\n",
       "      <td>0.815476</td>\n",
       "      <td>5.458</td>\n",
       "      <td>1</td>\n",
       "      <td>True</td>\n",
       "    </tr>\n",
       "    <tr>\n",
       "      <th>5</th>\n",
       "      <th>probability</th>\n",
       "      <th>1</th>\n",
       "      <th>0.1</th>\n",
       "      <th>M</th>\n",
       "      <td>20211206</td>\n",
       "      <td>20</td>\n",
       "      <td>21.0</td>\n",
       "      <td>2</td>\n",
       "      <td>19.904</td>\n",
       "      <td>2.779</td>\n",
       "      <td>False</td>\n",
       "      <td>13.391</td>\n",
       "      <td>1</td>\n",
       "      <td>0.132333</td>\n",
       "      <td>2.779</td>\n",
       "      <td>2</td>\n",
       "      <td>False</td>\n",
       "    </tr>\n",
       "  </tbody>\n",
       "</table>\n",
       "</div>"
      ]
     },
     "execution_count": 2,
     "metadata": {},
     "output_type": "execute_result"
    }
   ],
   "execution_count": 2
  },
  {
   "metadata": {},
   "cell_type": "markdown",
   "source": [
    "# Compute beliefs without color\n",
    "Compute the posterior for all blocks where the color cue was uninformative"
   ],
   "id": "e06cc95b2d6c7ac6"
  },
  {
   "metadata": {
    "ExecuteTime": {
     "end_time": "2025-03-11T23:49:10.528467Z",
     "start_time": "2025-03-11T23:49:10.268664Z"
    }
   },
   "cell_type": "code",
   "source": [
    "supp = np.arange(1, 30)\n",
    "df_nocol = utils.data.filter_df(df, {'kappa': 0})\n",
    "posteriors, err_beliefs = utils.data.process_blocks(df_nocol, utils.beliefs.compute_posteriors, supp, use_tqdm=True)"
   ],
   "id": "5cbb9f5fe29a715e",
   "outputs": [
    {
     "name": "stderr",
     "output_type": "stream",
     "text": [
      "100%|██████████| 26/26 [00:00<00:00, 113.46it/s]\n"
     ]
    }
   ],
   "execution_count": 3
  },
  {
   "metadata": {
    "ExecuteTime": {
     "end_time": "2025-03-11T23:49:15.648660Z",
     "start_time": "2025-03-11T23:49:15.565340Z"
    }
   },
   "cell_type": "code",
   "source": [
    "func = lambda df, index: utils.beliefs.compute_latent_beliefs_over_time(df, index, posteriors[index], dt=0.5,\n",
    "                                                                        padding_time=0.5)\n",
    "latent_beliefs_time, err_latent_time = utils.data.process_blocks(df_nocol, func, use_tqdm=True)"
   ],
   "id": "5bf1e745ea76fb55",
   "outputs": [
    {
     "name": "stderr",
     "output_type": "stream",
     "text": [
      "100%|██████████| 26/26 [00:00<00:00, 531.53it/s]\n"
     ]
    }
   ],
   "execution_count": 4
  },
  {
   "metadata": {
    "ExecuteTime": {
     "end_time": "2025-03-11T23:49:21.891392Z",
     "start_time": "2025-03-11T23:49:20.825036Z"
    }
   },
   "cell_type": "code",
   "source": [
    "func = lambda df, index: utils.beliefs.compute_joint_beliefs(df, index, posteriors[index])\n",
    "joint_beliefs, err_joint = utils.data.process_blocks(df_nocol, func, use_tqdm=True)"
   ],
   "id": "13d571a3c3f897cf",
   "outputs": [
    {
     "name": "stderr",
     "output_type": "stream",
     "text": [
      "100%|██████████| 26/26 [00:01<00:00, 24.95it/s]\n"
     ]
    }
   ],
   "execution_count": 5
  },
  {
   "metadata": {
    "ExecuteTime": {
     "end_time": "2025-03-11T23:49:25.070636Z",
     "start_time": "2025-03-11T23:49:23.873245Z"
    }
   },
   "cell_type": "code",
   "source": [
    "func = lambda df, index: utils.beliefs.compute_reward_beliefs(df, index, posteriors[index])\n",
    "reward_beliefs, err_reward = utils.data.process_blocks(df_nocol, func, use_tqdm=True)"
   ],
   "id": "b5f67e1234e3441c",
   "outputs": [
    {
     "name": "stderr",
     "output_type": "stream",
     "text": [
      "100%|██████████| 26/26 [00:01<00:00, 22.19it/s]\n"
     ]
    }
   ],
   "execution_count": 6
  },
  {
   "metadata": {},
   "cell_type": "markdown",
   "source": [
    "\n",
    "## Perfect model\n",
    "Compute the exact reward probabilities under a perfect model of the boxes (one where the schedules are known exactly)"
   ],
   "id": "daa323f86af8f4bc"
  },
  {
   "metadata": {
    "ExecuteTime": {
     "end_time": "2025-03-11T23:49:29.097841Z",
     "start_time": "2025-03-11T23:49:28.557617Z"
    }
   },
   "cell_type": "code",
   "source": [
    "reward_probabilities, err_reward_probabilities = utils.data.process_blocks(df_nocol,\n",
    "                                                                           utils.beliefs.compute_reward_probabilities,\n",
    "                                                                           use_tqdm=True)"
   ],
   "id": "61fb4733cbdc9a",
   "outputs": [
    {
     "name": "stderr",
     "output_type": "stream",
     "text": [
      "100%|██████████| 26/26 [00:00<00:00, 50.98it/s]\n"
     ]
    }
   ],
   "execution_count": 7
  },
  {
   "metadata": {},
   "cell_type": "markdown",
   "source": "# Save data",
   "id": "47214c20b80a199b"
  },
  {
   "metadata": {
    "ExecuteTime": {
     "end_time": "2025-03-11T23:49:32.222918Z",
     "start_time": "2025-03-11T23:49:31.982149Z"
    }
   },
   "cell_type": "code",
   "source": [
    "with open(os.path.join(SAVE_DIR, 'bulk_beliefs.pkl'), 'wb') as f:\n",
    "    pickle.dump({\n",
    "        'data': {\n",
    "            'posteriors': posteriors,\n",
    "            'latent_beliefs_over_time': latent_beliefs_time,\n",
    "            'joint_beliefs': joint_beliefs,\n",
    "            'reward_beliefs': reward_beliefs,\n",
    "            'reward probabilities': reward_probabilities\n",
    "        },\n",
    "        'error': {\n",
    "            'err_schedule_beliefs': err_beliefs,\n",
    "            'err_joint_beliefs': err_joint,\n",
    "            'err_reward_beliefs': err_reward,\n",
    "            'err_reward probabilities': err_reward_probabilities,\n",
    "        },\n",
    "        'schedule candidates': supp,\n",
    "        'dt': 0.5,\n",
    "        'padding_time': 0.5\n",
    "    }, f)"
   ],
   "id": "ae779ebbb34af1c2",
   "outputs": [],
   "execution_count": 8
  }
 ],
 "metadata": {
  "kernelspec": {
   "display_name": "Python 3",
   "language": "python",
   "name": "python3"
  },
  "language_info": {
   "codemirror_mode": {
    "name": "ipython",
    "version": 2
   },
   "file_extension": ".py",
   "mimetype": "text/x-python",
   "name": "python",
   "nbconvert_exporter": "python",
   "pygments_lexer": "ipython2",
   "version": "2.7.6"
  }
 },
 "nbformat": 4,
 "nbformat_minor": 5
}
